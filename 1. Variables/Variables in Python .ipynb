{
 "cells": [
  {
   "cell_type": "markdown",
   "id": "53fccf23",
   "metadata": {},
   "source": [
    "# Variables \n",
    "\n",
    "* Variables is a container in which data values are stored. \n"
   ]
  },
  {
   "cell_type": "markdown",
   "id": "ee428f3e",
   "metadata": {},
   "source": [
    "WRITING A VARIABLE\n"
   ]
  },
  {
   "cell_type": "code",
   "execution_count": 1,
   "id": "71f36b4e",
   "metadata": {},
   "outputs": [
    {
     "name": "stdout",
     "output_type": "stream",
     "text": [
      "22\n"
     ]
    }
   ],
   "source": [
    " x =22 \n",
    "print(x)"
   ]
  },
  {
   "cell_type": "code",
   "execution_count": 2,
   "id": "ced7c3a9",
   "metadata": {},
   "outputs": [
    {
     "name": "stdout",
     "output_type": "stream",
     "text": [
      "Adib \n"
     ]
    }
   ],
   "source": [
    "name = \"Adib \"\n",
    "print(name)"
   ]
  },
  {
   "cell_type": "markdown",
   "id": "89d7be96",
   "metadata": {},
   "source": [
    "WRITING MUTIPLE VARIABLE"
   ]
  },
  {
   "cell_type": "code",
   "execution_count": 4,
   "id": "8b6d22f9",
   "metadata": {},
   "outputs": [
    {
     "name": "stdout",
     "output_type": "stream",
     "text": [
      "Sam\n",
      "Kyle\n",
      "Jenny\n"
     ]
    }
   ],
   "source": [
    "x,y,z = 'Sam',\"Kyle\", \"Jenny\"\n",
    "\n",
    "print(x)\n",
    "print(y)\n",
    "print(z)"
   ]
  },
  {
   "cell_type": "code",
   "execution_count": 5,
   "id": "880db5ea",
   "metadata": {},
   "outputs": [
    {
     "name": "stdout",
     "output_type": "stream",
     "text": [
      "Jenny\n",
      "Jenny\n",
      "Jenny\n"
     ]
    }
   ],
   "source": [
    "\n",
    "x=y=z =  \"Jenny\"\n",
    "\n",
    "print(x)\n",
    "print(y)\n",
    "print(z)\n"
   ]
  },
  {
   "cell_type": "markdown",
   "id": "18a017ca",
   "metadata": {},
   "source": [
    "# List\n",
    "\n",
    "* Are used to store multiple items in a single variable\n",
    "\n",
    "* list = ['item_1', 'item_2', item_3'] \n",
    "\n",
    "* print(list)"
   ]
  },
  {
   "cell_type": "code",
   "execution_count": 6,
   "id": "af0f7fd7",
   "metadata": {},
   "outputs": [
    {
     "name": "stdout",
     "output_type": "stream",
     "text": [
      "['Apple', 'Banana', 'Cherry']\n"
     ]
    }
   ],
   "source": [
    "this_list = ['Apple', 'Banana', 'Cherry']\n",
    "\n",
    "print(this_list)"
   ]
  },
  {
   "cell_type": "code",
   "execution_count": 7,
   "id": "f23cbfe3",
   "metadata": {},
   "outputs": [
    {
     "name": "stdout",
     "output_type": "stream",
     "text": [
      "Hello World\n"
     ]
    }
   ],
   "source": [
    "# Consider Hello World \n",
    "\n",
    "name =  \"Hello World\"\n",
    "print(name)"
   ]
  },
  {
   "cell_type": "code",
   "execution_count": null,
   "id": "5e58609e",
   "metadata": {},
   "outputs": [],
   "source": []
  }
 ],
 "metadata": {
  "kernelspec": {
   "display_name": "Python 3 (ipykernel)",
   "language": "python",
   "name": "python3"
  },
  "language_info": {
   "codemirror_mode": {
    "name": "ipython",
    "version": 3
   },
   "file_extension": ".py",
   "mimetype": "text/x-python",
   "name": "python",
   "nbconvert_exporter": "python",
   "pygments_lexer": "ipython3",
   "version": "3.10.9"
  }
 },
 "nbformat": 4,
 "nbformat_minor": 5
}
