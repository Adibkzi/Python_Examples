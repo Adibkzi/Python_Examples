{
 "cells": [
  {
   "cell_type": "markdown",
   "id": "cf10f4eb",
   "metadata": {},
   "source": [
    "# Variables Quiz\n",
    "\n",
    "1. Write a Python program that calculates the average of three numbers. Declare three variables to store the numbers, take input from the user, and calculate the average.\n",
    "\n",
    "2. Write a Python program that converts temperature from Celsius to Fahrenheit. Declare a variable to store the temperature in Celsius, take input from the user, and convert it to Fahrenheit using the conversion formula.\n",
    "\n",
    "3. Write a Python program that checks if a number is even or odd. Declare a variable to store the number, take input from the user, and check if it is divisible by 2. Print the appropriate message based on whether the number is even or odd."
   ]
  },
  {
   "cell_type": "code",
   "execution_count": 1,
   "id": "0c0ed520",
   "metadata": {},
   "outputs": [
    {
     "name": "stdout",
     "output_type": "stream",
     "text": [
      "Enter number 1:2\n",
      "Enter number 2:3\n",
      "Enter number 3:4\n",
      "The average is: 3.0\n"
     ]
    }
   ],
   "source": [
    "# 1 \n",
    "\n",
    "# take the input from the user\n",
    "num_1 = float(input(\"Enter number 1:\"))\n",
    "num_2 = float(input(\"Enter number 2:\"))\n",
    "num_3 = float(input(\"Enter number 3:\"))\n",
    "\n",
    "# calculate\n",
    "average = (num_1 + num_2 + num_3) / 3 \n",
    "\n",
    "# print the results\n",
    "print(\"The average is:\", average)"
   ]
  },
  {
   "cell_type": "code",
   "execution_count": 2,
   "id": "378a3a73",
   "metadata": {},
   "outputs": [
    {
     "name": "stdout",
     "output_type": "stream",
     "text": [
      "Enter the temperature in Celsius: 3\n",
      "The temperature in Fahrenheit is: 37.4\n"
     ]
    }
   ],
   "source": [
    "# 2 \n",
    "\n",
    "# Declare a variable to store the temperature in Celsius\n",
    "celsius = float(input(\"Enter the temperature in Celsius: \"))\n",
    "\n",
    "# Convert Celsius to Fahrenheit\n",
    "fahrenheit = (celsius * 9/5) + 32\n",
    "\n",
    "# Print the converted temperature in Fahrenheit\n",
    "print(\"The temperature in Fahrenheit is:\", fahrenheit)"
   ]
  },
  {
   "cell_type": "code",
   "execution_count": 3,
   "id": "2bb813e2",
   "metadata": {},
   "outputs": [
    {
     "name": "stdout",
     "output_type": "stream",
     "text": [
      "Enter a number: 23\n",
      "23 is odd\n"
     ]
    }
   ],
   "source": [
    "# 3 little bit tricky\n",
    "# Declare a variable to store the number\n",
    "number = int(input(\"Enter a number: \"))\n",
    "\n",
    "# Check if the number is even or odd\n",
    "if number % 2 == 0:\n",
    "    print(number, \"is even\")\n",
    "else:\n",
    "    print(number, \"is odd\")"
   ]
  },
  {
   "cell_type": "code",
   "execution_count": null,
   "id": "e508b7df",
   "metadata": {},
   "outputs": [],
   "source": []
  }
 ],
 "metadata": {
  "kernelspec": {
   "display_name": "Python 3 (ipykernel)",
   "language": "python",
   "name": "python3"
  },
  "language_info": {
   "codemirror_mode": {
    "name": "ipython",
    "version": 3
   },
   "file_extension": ".py",
   "mimetype": "text/x-python",
   "name": "python",
   "nbconvert_exporter": "python",
   "pygments_lexer": "ipython3",
   "version": "3.10.9"
  }
 },
 "nbformat": 4,
 "nbformat_minor": 5
}
